{
 "cells": [
  {
   "cell_type": "code",
   "execution_count": 1,
   "id": "6dab22f3-bf4f-448e-892f-0b91bc4d4497",
   "metadata": {},
   "outputs": [
    {
     "name": "stderr",
     "output_type": "stream",
     "text": [
      "Installing package into 'C:/Users/HP/AppData/Local/R/win-library/4.5'\n",
      "(as 'lib' is unspecified)\n",
      "\n"
     ]
    },
    {
     "name": "stdout",
     "output_type": "stream",
     "text": [
      "package 'keras' successfully unpacked and MD5 sums checked\n",
      "\n",
      "The downloaded binary packages are in\n",
      "\tC:\\Users\\HP\\AppData\\Local\\Temp\\RtmpYntEMo\\downloaded_packages\n"
     ]
    }
   ],
   "source": [
    "install.packages(\"keras\")"
   ]
  },
  {
   "cell_type": "code",
   "execution_count": 3,
   "id": "a2f0ba40-38d6-42c4-829f-f9ebe6ff9c45",
   "metadata": {},
   "outputs": [
    {
     "name": "stdout",
     "output_type": "stream",
     "text": [
      "Using Python: C:/Users/HP/anaconda3/python.exe\n",
      "Creating virtual environment \"r-tensorflow\" ... \n"
     ]
    },
    {
     "name": "stderr",
     "output_type": "stream",
     "text": [
      "+ \"C:/Users/HP/anaconda3/python.exe\" -m venv \"C:\\Users\\HP\\OneDrive - Nexford University\\Documents/.virtualenvs/r-tensorflow\"\n",
      "\n"
     ]
    },
    {
     "name": "stdout",
     "output_type": "stream",
     "text": [
      "Done!\n",
      "Installing packages: pip, wheel, setuptools\n"
     ]
    },
    {
     "name": "stderr",
     "output_type": "stream",
     "text": [
      "+ \"C:\\Users\\HP\\OneDrive - Nexford University\\Documents/.virtualenvs/r-tensorflow/Scripts/python.exe\" -m pip install --upgrade pip wheel setuptools\n",
      "\n"
     ]
    },
    {
     "name": "stdout",
     "output_type": "stream",
     "text": [
      "Virtual environment 'r-tensorflow' successfully created.\n",
      "Using virtual environment \"r-tensorflow\" ...\n"
     ]
    },
    {
     "name": "stderr",
     "output_type": "stream",
     "text": [
      "+ \"C:\\Users\\HP\\OneDrive - Nexford University\\Documents/.virtualenvs/r-tensorflow/Scripts/python.exe\" -m pip install --upgrade --no-user \"tensorflow==2.15.*\" tensorflow-hub tensorflow-datasets scipy requests Pillow h5py pandas pydot\n",
      "\n"
     ]
    },
    {
     "name": "stdout",
     "output_type": "stream",
     "text": [
      "\n",
      "Installation complete.\n",
      "\n",
      "[1] \"Keras successfully installed\"\n"
     ]
    }
   ],
   "source": [
    "library(keras)\n",
    "install_keras()\n",
    "\n",
    "print(\"Keras successfully installed\")"
   ]
  },
  {
   "cell_type": "code",
   "execution_count": 5,
   "id": "c7d3896e-683e-400f-92de-2ddb4c671a7a",
   "metadata": {},
   "outputs": [
    {
     "name": "stdout",
     "output_type": "stream",
     "text": [
      "[1] \"Libraries loaded successfully.\"\n"
     ]
    }
   ],
   "source": [
    "# Step 1: Load the libraries\n",
    "library(keras)\n",
    "library(ggplot2) # For plotting, if desired beyond base R plots\n",
    "\n",
    "print(\"Libraries loaded successfully.\")"
   ]
  },
  {
   "cell_type": "code",
   "execution_count": 13,
   "id": "ef2ac05a-0c67-419e-9a3d-350383097487",
   "metadata": {},
   "outputs": [
    {
     "name": "stdout",
     "output_type": "stream",
     "text": [
      "[1] \"\\n--- Step 2: Load the Dataset ---\"\n",
      "Training images dimensions: 60000 28 28 \n",
      "Training labels dimensions: 60000 \n",
      "Test images dimensions: 10000 28 28 \n",
      "Test labels dimensions: 10000 \n",
      "Number of classes: 10 \n"
     ]
    },
    {
     "data": {
      "image/png": "[encoded data removed]",
      "text/plain": [
       "Plot with title \"Label: Ankle boot\""
      ]
     },
     "metadata": {
      "image/png": {
       "height": 420,
       "width": 420
      }
     },
     "output_type": "display_data"
    }
   ],
   "source": [
    "# Step 2: Load the dataset\n",
    "print(\"\\n--- Step 2: Load the Dataset ---\")\n",
    "\n",
    "fashion_mnist <- dataset_fashion_mnist()\n",
    "c(train_images, train_labels) %<-% fashion_mnist$train\n",
    "c(test_images, test_labels) %<-% fashion_mnist$test\n",
    "\n",
    "# Define class names for better interpretability\n",
    "class_names <- c('T-shirt/top', 'Trouser', 'Pullover', 'Dress', 'Coat',\n",
    "                 'Sandal', 'Shirt', 'Sneaker', 'Bag', 'Ankle boot')\n",
    "\n",
    "cat(\"Training images dimensions:\", dim(train_images), \"\\n\")\n",
    "cat(\"Training labels dimensions:\", dim(train_labels), \"\\n\")\n",
    "cat(\"Test images dimensions:\", dim(test_images), \"\\n\")\n",
    "cat(\"Test labels dimensions:\", dim(test_labels), \"\\n\")\n",
    "cat(\"Number of classes:\", length(class_names), \"\\n\")\n",
    "\n",
    "# Display a sample image and label (R-specific plotting)\n",
    "par(mar=c(0,0,2,0)) # Adjust margins\n",
    "image(t(apply(train_images[1,,], 2, rev)), col = gray.colors(256),\n",
    "      axes = FALSE, main = paste(\"Label:\", class_names[train_labels[1] + 1])) # +1 because R is 1-indexed\n"
   ]
  },
  {
   "cell_type": "code",
   "execution_count": 9,
   "id": "b6eec390-24a7-4377-a1b6-8cbe5c751a5a",
   "metadata": {},
   "outputs": [
    {
     "name": "stdout",
     "output_type": "stream",
     "text": [
      "[1] \"\\n--- Step 3: Data Pre-processing ---\"\n",
      "Normalized train images dimensions: 60000 28 28 1 \n",
      "Normalized test images dimensions: 10000 28 28 1 \n",
      "One-hot encoded train labels dimensions: 60000 10 \n",
      "One-hot encoded test labels dimensions: 10000 10 \n",
      "[1] \"Process Completed\"\n"
     ]
    },
    {
     "data": {
      "image/png": "[encoded data removed]",
      "text/plain": [
       "Plot with title \"First 5 Training Images (Pre-processed)\""
      ]
     },
     "metadata": {
      "image/png": {
       "height": 420,
       "width": 420
      }
     },
     "output_type": "display_data"
    }
   ],
   "source": [
    "# Step 3: Data Pre-processing\n",
    "print(\"\\n--- Step 3: Data Pre-processing ---\")\n",
    "\n",
    "# Normalize pixel values\n",
    "train_images <- train_images / 255\n",
    "test_images <- test_images / 255\n",
    "\n",
    "# Reshape images for CNN input: Keras in R expects (height, width, channels, batch_size)\n",
    "# Original R dimensions are (width, height, channels) * number of images\n",
    "# We need to add a channel dimension if not present and transpose for Keras\n",
    "train_images <- array_reshape(train_images, c(dim(train_images)[1], 28, 28, 1))\n",
    "test_images <- array_reshape(test_images, c(dim(test_images)[1], 28, 28, 1))\n",
    "\n",
    "# Convert labels to one-hot encoding\n",
    "train_labels_one_hot <- to_categorical(train_labels, num_classes = 10)\n",
    "test_labels_one_hot <- to_categorical(test_labels, num_classes = 10)\n",
    "\n",
    "cat(\"Normalized train images dimensions:\", dim(train_images), \"\\n\")\n",
    "cat(\"Normalized test images dimensions:\", dim(test_images), \"\\n\")\n",
    "cat(\"One-hot encoded train labels dimensions:\", dim(train_labels_one_hot), \"\\n\")\n",
    "cat(\"One-hot encoded test labels dimensions:\", dim(test_labels_one_hot), \"\\n\")\n",
    "\n",
    "# Display first 5 pre-processed images\n",
    "par(mfrow=c(1,5), mar=c(0,0,2,0))\n",
    "for (i in 1:5) {\n",
    "  image(t(apply(train_images[i,,,], 2, rev)), col = gray.colors(256),\n",
    "        axes = FALSE, main = class_names[which.max(train_labels_one_hot[i,])])\n",
    "}\n",
    "title(main=\"First 5 Training Images (Pre-processed)\", line = -1.5, outer = TRUE, cex.main = 1.2)\n",
    "\n",
    "print(\"Process Completed\")"
   ]
  },
  {
   "cell_type": "code",
   "execution_count": 15,
   "id": "5beeb584-dcbf-424b-b79d-94ca47bdaf62",
   "metadata": {},
   "outputs": [
    {
     "name": "stdout",
     "output_type": "stream",
     "text": [
      "[1] \"\\n--- Step 4: Create the Model ---\"\n",
      "[1] \"Sequential model created.\"\n"
     ]
    }
   ],
   "source": [
    "# Step 4: Create the model\n",
    "print(\"\\n--- Step 4: Create the Model ---\")\n",
    "\n",
    "model <- keras_model_sequential()\n",
    "print(\"Sequential model created.\")"
   ]
  },
  {
   "cell_type": "code",
   "execution_count": 17,
   "id": "a5524e13-b8f0-4d35-83ef-2e4de522453d",
   "metadata": {},
   "outputs": [
    {
     "name": "stdout",
     "output_type": "stream",
     "text": [
      "[1] \"\\n--- Step 5: Add Layers ---\"\n",
      "[1] \"CNN model architecture defined with 6 layers.\"\n",
      "Model: \"sequential\"\n",
      "________________________________________________________________________________\n",
      " Layer (type)                       Output Shape                    Param #     \n",
      "================================================================================\n",
      " conv2d_1 (Conv2D)                  (None, 26, 26, 32)              320         \n",
      " max_pooling2d_1 (MaxPooling2D)     (None, 13, 13, 32)              0           \n",
      " conv2d (Conv2D)                    (None, 11, 11, 64)              18496       \n",
      " max_pooling2d (MaxPooling2D)       (None, 5, 5, 64)                0           \n",
      " flatten (Flatten)                  (None, 1600)                    0           \n",
      " dense (Dense)                      (None, 10)                      16010       \n",
      "================================================================================\n",
      "Total params: 34826 (136.04 KB)\n",
      "Trainable params: 34826 (136.04 KB)\n",
      "Non-trainable params: 0 (0.00 Byte)\n",
      "________________________________________________________________________________\n"
     ]
    }
   ],
   "source": [
    "# Step 5: Add layers\n",
    "print(\"\\n--- Step 5: Add Layers ---\")\n",
    "\n",
    "model %>%\n",
    "  # Layer 1: Convolutional Layer\n",
    "  # Filters: 32 feature detectors\n",
    "  # Kernel size: 3x3\n",
    "  # Activation: ReLU\n",
    "  # Input Shape: (28, 28, 1) for grayscale 28x28 images\n",
    "  layer_conv_2d(filters = 32, kernel_size = c(3, 3), activation = 'relu', input_shape = c(28, 28, 1)) %>%\n",
    "\n",
    "  # Layer 2: Max Pooling Layer\n",
    "  # Pool size: 2x2. Reduces spatial dimensions.\n",
    "  layer_max_pooling_2d(pool_size = c(2, 2)) %>%\n",
    "\n",
    "  # Layer 3: Second Convolutional Layer\n",
    "  # Filters: 64, often increasing filters in deeper layers\n",
    "  layer_conv_2d(filters = 64, kernel_size = c(3, 3), activation = 'relu') %>%\n",
    "\n",
    "  # Layer 4: Second Max Pooling Layer\n",
    "  layer_max_pooling_2d(pool_size = c(2, 2)) %>%\n",
    "\n",
    "  # Layer 5: Flatten Layer\n",
    "  # Flattens the 2D output of the convolutional/pooling layers into a 1D vector\n",
    "  layer_flatten() %>%\n",
    "\n",
    "  # Layer 6: Dense Output Layer\n",
    "  # Units: 10 (one for each class)\n",
    "  # Activation: Softmax for multi-class classification, outputs probabilities for each class\n",
    "  layer_dense(units = 10, activation = 'softmax')\n",
    "\n",
    "print(\"CNN model architecture defined with 6 layers.\")\n",
    "summary(model)"
   ]
  },
  {
   "cell_type": "code",
   "execution_count": 19,
   "id": "9fd85701-236b-4838-9bf4-a3c61d8d1c93",
   "metadata": {},
   "outputs": [
    {
     "name": "stdout",
     "output_type": "stream",
     "text": [
      "[1] \"\\n--- Step 6: Compile and Train the Model ---\"\n",
      "[1] \"Model compiled. Training...\"\n",
      "[1] \"\\nModel training complete.\"\n",
      "[1] \"\\n--- Evaluating Model on Test Data ---\"\n",
      "Test accuracy: 0.8742\n",
      "Test loss: 0.3774\n"
     ]
    },
    {
     "data": {
      "image/png": "[encoded data removed]",
      "text/plain": [
       "plot without title"
      ]
     },
     "metadata": {
      "image/png": {
       "height": 420,
       "width": 420
      }
     },
     "output_type": "display_data"
    }
   ],
   "source": [
    "# Step 6: Compile and Train the Model\n",
    "print(\"\\n--- Step 6: Compile and Train the Model ---\")\n",
    "\n",
    "# Compile the model\n",
    "model %>% compile(\n",
    "  optimizer = 'adam',\n",
    "  loss = 'categorical_crossentropy',\n",
    "  metrics = c('accuracy')\n",
    ")\n",
    "\n",
    "print(\"Model compiled. Training...\")\n",
    "\n",
    "# Train the model\n",
    "# epochs: Number of times the model will iterate over the entire training dataset.\n",
    "# batch_size: Number of samples per gradient update. (Default is often 32)\n",
    "# validation_split: A portion of the training data to be used as validation data.\n",
    "history <- model %>% fit(\n",
    "  train_images,\n",
    "  train_labels_one_hot,\n",
    "  epochs = 10,\n",
    "  validation_split = 0.1\n",
    ")\n",
    "\n",
    "print(\"\\nModel training complete.\")\n",
    "\n",
    "# Evaluate the model on the test data\n",
    "print(\"\\n--- Evaluating Model on Test Data ---\")\n",
    "eval_results <- model %>% evaluate(test_images, test_labels_one_hot, verbose = 0)\n",
    "cat(sprintf(\"Test accuracy: %.4f\\n\", eval_results[\"accuracy\"]))\n",
    "cat(sprintf(\"Test loss: %.4f\\n\", eval_results[\"loss\"]))\n",
    "\n",
    "# Plot training & validation accuracy and loss\n",
    "plot(history)"
   ]
  },
  {
   "cell_type": "code",
   "execution_count": 31,
   "id": "ddac3428-48e4-4f12-9941-d506e9bbc9ac",
   "metadata": {},
   "outputs": [
    {
     "name": "stdout",
     "output_type": "stream",
     "text": [
      "[1] \"\\n--- Making Predictions ---\"\n",
      "[1] \"Dimensions of test_images before loop: 10000 28 28\"\n",
      "[1] \"Dimensions of img_for_plot (inside loop): 28 28\"\n",
      "[1] \"Dimensions of img_for_plot (inside loop): 28 28\"\n",
      "[1] \"\\nPredictions complete for selected test images.\"\n"
     ]
    },
    {
     "data": {
      "image/png": "[encoded data removed]",
      "text/plain": [
       "Plot with title \"Predictions on Test Images\""
      ]
     },
     "metadata": {
      "image/png": {
       "height": 420,
       "width": 420
      }
     },
     "output_type": "display_data"
    }
   ],
   "source": [
    "print(\"\\n--- Making Predictions ---\")\n",
    "\n",
    "# Selecting at least two images from the test set for prediction\n",
    "image_indices <- c(1, 6) # R is 1-indexed\n",
    "\n",
    "print(paste(\"Dimensions of test_images before loop:\", paste(dim(test_images), collapse = \" \")))\n",
    "\n",
    "par(mfrow=c(1, length(image_indices)), mar=c(0,0,2,0)) # Setup plot grid\n",
    "\n",
    "for (i in 1:length(image_indices)) {\n",
    "  img_idx <- image_indices[i]\n",
    "\n",
    "  # Get the image and its true label\n",
    "  # IMPORTANT: For prediction, the model still needs a 4D input (1, 28, 28, 1).\n",
    "  # So, we need to reshape the 3D test_images slice for prediction.\n",
    "  img_for_prediction <- array_reshape(test_images[img_idx, , ], c(1, 28, 28, 1))\n",
    "\n",
    "  true_label <- test_labels[img_idx]\n",
    "\n",
    "  # Then we make a prediction\n",
    "  predictions <- model %>% predict(img_for_prediction)\n",
    "  predicted_label <- which.max(predictions[1,]) # Get the class with the highest probability\n",
    "\n",
    "  # We directly extract the 2D (28x28) image array for plotting from test_images (which is 3D)\n",
    "  img_for_plot <- test_images[img_idx, , ] # This will correctly get a 28x28 matrix\n",
    "\n",
    "  print(paste(\"Dimensions of img_for_plot (inside loop):\", paste(dim(img_for_plot), collapse = \" \")))\n",
    "\n",
    "  # Plot the image and prediction\n",
    "  image(t(apply(img_for_plot, 2, rev)), col = gray.colors(256),\n",
    "        axes = FALSE, main = paste0(\"True: \", class_names[true_label + 1], \"\\n\",\n",
    "                      \"Predicted: \", class_names[predicted_label]))\n",
    "}\n",
    "\n",
    "title(main=\"Predictions on Test Images\", line = -1.5, outer = TRUE, cex.main = 1.2)\n",
    "\n",
    "print(\"\\nPredictions complete for selected test images.\")"
   ]
  },
  {
   "cell_type": "code",
   "execution_count": null,
   "id": "66f6d052-4eaf-41e4-84d2-e5672b0f771c",
   "metadata": {},
   "outputs": [],
   "source": []
  }
 ],
 "metadata": {
  "kernelspec": {
   "display_name": "R",
   "language": "R",
   "name": "ir"
  },
  "language_info": {
   "codemirror_mode": "r",
   "file_extension": ".r",
   "mimetype": "text/x-r-source",
   "name": "R",
   "pygments_lexer": "r",
   "version": "4.5.0"
  }
 },
 "nbformat": 4,
 "nbformat_minor": 5
}
